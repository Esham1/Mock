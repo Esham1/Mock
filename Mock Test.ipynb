{
 "cells": [
  {
   "cell_type": "code",
   "execution_count": null,
   "metadata": {},
   "outputs": [],
   "source": [
    "# To write python function to accept user inputs, store it in a list and compute the highest number out of it."
   ]
  },
  {
   "cell_type": "code",
   "execution_count": 4,
   "metadata": {},
   "outputs": [],
   "source": [
    "list1 = []"
   ]
  },
  {
   "cell_type": "code",
   "execution_count": 15,
   "metadata": {},
   "outputs": [
    {
     "name": "stdout",
     "output_type": "stream",
     "text": [
      "Total numbers: 5\n",
      "Enter number: 41\n",
      "Enter number: 25\n",
      "Enter number: 18\n",
      "Enter number: 17\n",
      "Enter number: 36\n",
      "Largest number is: 41\n"
     ]
    }
   ],
   "source": [
    "num = int(input(\"Total numbers: \"))\n",
    "for i in range(1, num + 1):\n",
    "    number = int(input(\"Enter number: \"))\n",
    "    list1.append(number)\n",
    "print('Largest number is:',max(list1))"
   ]
  },
  {
   "cell_type": "code",
   "execution_count": 14,
   "metadata": {},
   "outputs": [
    {
     "name": "stdout",
     "output_type": "stream",
     "text": [
      "Total numbers: 6\n",
      "Enter number: 12\n",
      "Enter number: 15\n",
      "Enter number: 20\n",
      "Enter number: Seven\n",
      "Error : Please Type it in numberical values!\n",
      "Try again\n"
     ]
    }
   ],
   "source": [
    "list1 = []\n",
    "try:\n",
    "    num = int(input(\"Total numbers: \"))\n",
    "    for i in range(1, num + 1):\n",
    "        number = int(input(\"Enter number: \"))\n",
    "        list1.append(number)\n",
    "    print('Largest number is:',max(list1))\n",
    "except :\n",
    "    print(\"Error : Please Type it in numberical values!\")\n",
    "    print(\"Try again\")"
   ]
  },
  {
   "cell_type": "code",
   "execution_count": null,
   "metadata": {},
   "outputs": [],
   "source": []
  }
 ],
 "metadata": {
  "kernelspec": {
   "display_name": "Python 3",
   "language": "python",
   "name": "python3"
  },
  "language_info": {
   "codemirror_mode": {
    "name": "ipython",
    "version": 3
   },
   "file_extension": ".py",
   "mimetype": "text/x-python",
   "name": "python",
   "nbconvert_exporter": "python",
   "pygments_lexer": "ipython3",
   "version": "3.8.3"
  }
 },
 "nbformat": 4,
 "nbformat_minor": 4
}
